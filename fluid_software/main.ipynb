{
 "cells": [
  {
   "cell_type": "code",
   "execution_count": null,
   "id": "df14a5a9",
   "metadata": {},
   "outputs": [],
   "source": [
    "#Put all of your import statements in this code block"
   ]
  },
  {
   "cell_type": "markdown",
   "id": "b6f17673",
   "metadata": {},
   "source": [
    "# Pipe Table Search Functions"
   ]
  },
  {
   "cell_type": "markdown",
   "id": "06a8820a",
   "metadata": {},
   "source": [
    "## Search By Inside Diameter\n",
    "\n",
    "Use this function to get a sorted list of pipe sizes with information regarding\n",
    "the pipe given a target inside diameter."
   ]
  },
  {
   "cell_type": "code",
   "execution_count": null,
   "id": "545fe979",
   "metadata": {},
   "outputs": [],
   "source": [
    "# Always input these variables\n",
    "inside_diameter = None #Enter the desired inside diameter as a decimal\n",
    "\n",
    "# Optional variables\n",
    "standard_only = True #False will include entries without identification or schedule\n",
    "number_of_entries = None #Enter an integer if you only want to see a certain number of results, default is to see all entries\n",
    "\n",
    "## Filter by Codes based on pressure and temperature if desired\n",
    "b31_1 = False #Set to True to only return results that pass B31.1 for design pressure and temperature\n",
    "b31_3 = False #Set to True to only return results that pass B31.3 for design pressure and temperature\n",
    "section_vii = False #Set to True to only return results that pass Section VIII Div 1. UG-27 for design pressure and temperature\n",
    "design_pressure = 0 #psig, must be entered if code filter is set to True\n",
    "design_temperature = 0 #F, must be entered if code filter is set to True\n",
    "material = None #'304', '316', '106 Gr B' are the currently available materials, must be entered if code filter is set to True\n",
    "seamless = True #Set to False to apply a 0.85 strength reduction factor for welded pipe"
   ]
  },
  {
   "cell_type": "markdown",
   "id": "4a9aed39",
   "metadata": {},
   "source": [
    "## Search by Fluid Velocity at Process Conditions\n",
    "Use this function to get a sorted list of pipe sizes with information regarding the pipe given a target fluid velocity. (Fluid is always assumed to be water currently)"
   ]
  },
  {
   "cell_type": "code",
   "execution_count": null,
   "id": "7141870c",
   "metadata": {},
   "outputs": [],
   "source": [
    "# Always input these variables\n",
    "fluid_pressure = None #psia as a decimal, used for density lookup\n",
    "fluid_temperature = None #F as a decimal , used for density lookup\n",
    "mass_flow_rate = None #lbm/sec as a decimal\n",
    "target_velocity = None #ft/sec as a decimal\n",
    "\n",
    "# Optional variables\n",
    "standard_only = True #False will include entries without identification or schedule\n",
    "number_of_entries = None #Enter an integer if you only want to see a certain number of results, default is to see all entries\n",
    "\n",
    "## Filter by Codes based on pressure and temperature if desired\n",
    "b31_1 = False #Set to True to only return results that pass B31.1 for design pressure and temperature\n",
    "b31_3 = False #Set to True to only return results that pass B31.3 for design pressure and temperature\n",
    "section_vii = False #Set to True to only return results that pass Section VIII Div 1. UG-27 for design pressure and temperature\n",
    "design_pressure = 0 #psig, must be entered if code filter is set to True\n",
    "design_temperature = 0 #F, must be entered if code filter is set to True\n",
    "material = None #'304', '316', '106 Gr B' are the currently available materials, must be entered if code filter is set to True\n",
    "seamless = True #Set to False to apply a 0.85 strength reduction factor for welded pipe"
   ]
  },
  {
   "cell_type": "markdown",
   "id": "2ef737a3",
   "metadata": {},
   "source": [
    "# Specific Pipe Size Functions"
   ]
  },
  {
   "cell_type": "markdown",
   "id": "8327c651",
   "metadata": {},
   "source": [
    "## Information for Specific Pipe Size\n",
    "Use this function to get information for a particular pipe size. (Fluid is always assumed to be water currently)"
   ]
  },
  {
   "cell_type": "code",
   "execution_count": null,
   "id": "9a00c2b9",
   "metadata": {},
   "outputs": [],
   "source": [
    "# Always input these variables\n",
    "nps = None #Enter NPS as a decimal\n",
    "schedule = None #Only enter schedule or identification. Can be an integer or string\n",
    "identification = None #Only enter schedule or identification. Can be an integer or string\n",
    "\n",
    "# Optional variables\n",
    "fluid_pressure = None #psia as a decimal, used for density lookup\n",
    "fluid_temperature = None #F as a decimal , used for density lookup\n",
    "mass_flow_rate = None #lbm/sec as a decimal"
   ]
  }
 ],
 "metadata": {
  "kernelspec": {
   "display_name": "Python 3",
   "language": "python",
   "name": "python3"
  },
  "language_info": {
   "codemirror_mode": {
    "name": "ipython",
    "version": 3
   },
   "file_extension": ".py",
   "mimetype": "text/x-python",
   "name": "python",
   "nbconvert_exporter": "python",
   "pygments_lexer": "ipython3",
   "version": "3.12.0"
  }
 },
 "nbformat": 4,
 "nbformat_minor": 5
}
